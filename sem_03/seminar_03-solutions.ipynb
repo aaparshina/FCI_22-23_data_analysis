{
 "cells": [
  {
   "cell_type": "markdown",
   "id": "e3efee3b",
   "metadata": {},
   "source": [
    "# Анализ данных | Python \n",
    "## ОП «Журналистика», ОП «Медиакоммуникации» 2022/23\n",
    "\n",
    "## Семинар 3 \n",
    "\n",
    "## Признаки. Создание переменных\n",
    "\n",
    "*Из курса \"Статистика для анализа данных\"*"
   ]
  },
  {
   "cell_type": "markdown",
   "id": "6bfa5a69",
   "metadata": {},
   "source": [
    "### Обсуждение самопроверки из ОК\n",
    "\n",
    "1. Какие данные соответствуют номинальной шкале? Выберите один верный ответ.\n",
    "\n",
    "   `а) Возраст`\n",
    "   \n",
    "   `б) Национальность`\n",
    "   \n",
    "   `в) Температура`\n",
    "   \n",
    "   `г) Возрастные группы`\n",
    " \n",
    "2. Предположим, что мы хотим предсказать температуру в каждом месяце года. Что в данном случае будет выступать объектами (наблюдениями)? Выберите один верный ответ.\n",
    "\n",
    "    `а) Январь, март и апрель`\n",
    "    \n",
    "    `б) Месяцы года`\n",
    "    \n",
    "    `в) Температура`\n",
    "    \n",
    "    `г) Год, месяцы которого нас интересуют`\n",
    "    \n",
    "3. Для каких данных нельзя посчитать среднее значение? Выберите один верный ответ.\n",
    "\n",
    "    `а) Возраст`\n",
    "   \n",
    "    `б) Доход`\n",
    "   \n",
    "    `в) Месяцы года`\n",
    "   \n",
    "    `г) Количество просмотров`\n",
    "\n",
    "4. Укажите, верно ли следующее утверждение: *номинальные данные можно упорядочить*.\n",
    "\n",
    "\n",
    "5. Предположим, что у нас есть данные о том, к какой из четырех групп по уровню дохода относится респондент. К какой шкале относится данный признак? Выберите один верный ответ.\n",
    "\n",
    "   `а) Интервальная`\n",
    "   \n",
    "   `б) Номинальная`\n",
    "   \n",
    "   `в) Порядковая`\n",
    "   \n",
    "   `г) Дихотомическая`\n",
    "   "
   ]
  },
  {
   "cell_type": "markdown",
   "id": "4786358f",
   "metadata": {},
   "source": [
    "### Обсуждение теста из ОК"
   ]
  },
  {
   "cell_type": "code",
   "execution_count": 1,
   "id": "3be20c85",
   "metadata": {},
   "outputs": [],
   "source": [
    "import pandas as pd # импортировали библиотеку pandas и назвали ее pd "
   ]
  },
  {
   "cell_type": "markdown",
   "id": "1ab10236",
   "metadata": {},
   "source": [
    "Описание данных\n",
    "\n",
    "+ `respondentID` — идентификационный номер респондента\n",
    "+ `seen` — ответ на вопрос, видел ли респондент хотя бы один фильм из серии «Звездных войн» (да/нет)\n",
    "+ `fan` — ответ на вопрос, считает ли респондент себя фанатом серии фильмов (да/нет)\n",
    "+ `gender` — пол респондента (М/Ж)\n",
    "+ `age_group` — возрастная группа, к которой принадлежит респондент (18-29, 30-44, 45-60, > 60)\n",
    "+ `income` — доход респондента в долларах США (0 - 24.999, 25.000 - 49.999, 50.000 - 99.999, 100.000 - 149.999, 150.000+)\n",
    "+ `loc` — регион проживания респондента (в США)\n",
    "+ `yoda` — отношение респондента к персонажу серии (Йоде)\n",
    "+ `princess_leia_organa` — отношение респондента к персонажу серии (принцессе Лее Органе)"
   ]
  },
  {
   "cell_type": "code",
   "execution_count": 5,
   "id": "a14a0402",
   "metadata": {},
   "outputs": [
    {
     "data": {
      "text/html": [
       "<div>\n",
       "<style scoped>\n",
       "    .dataframe tbody tr th:only-of-type {\n",
       "        vertical-align: middle;\n",
       "    }\n",
       "\n",
       "    .dataframe tbody tr th {\n",
       "        vertical-align: top;\n",
       "    }\n",
       "\n",
       "    .dataframe thead th {\n",
       "        text-align: right;\n",
       "    }\n",
       "</style>\n",
       "<table border=\"1\" class=\"dataframe\">\n",
       "  <thead>\n",
       "    <tr style=\"text-align: right;\">\n",
       "      <th></th>\n",
       "      <th>respondentID;seen;fan;gender;age_group;income;loc;yoda;princess_leia_organa</th>\n",
       "    </tr>\n",
       "  </thead>\n",
       "  <tbody>\n",
       "    <tr>\n",
       "      <th>0</th>\n",
       "      <td>3292879998;да;да;М;18-29;;Южно-Атлантический;о...</td>\n",
       "    </tr>\n",
       "    <tr>\n",
       "      <th>1</th>\n",
       "      <td>3292879538;нет;;М;18-29;0 - 24.999;Юго-Западны...</td>\n",
       "    </tr>\n",
       "    <tr>\n",
       "      <th>2</th>\n",
       "      <td>3292765271;да;нет;М;18-29;0 - 24.999;Северо-За...</td>\n",
       "    </tr>\n",
       "    <tr>\n",
       "      <th>3</th>\n",
       "      <td>3292763116;да;да;М;18-29;100.000 - 149.999;Сев...</td>\n",
       "    </tr>\n",
       "    <tr>\n",
       "      <th>4</th>\n",
       "      <td>3292731220;да;да;М;18-29;100.000 - 149.999;Сев...</td>\n",
       "    </tr>\n",
       "  </tbody>\n",
       "</table>\n",
       "</div>"
      ],
      "text/plain": [
       "  respondentID;seen;fan;gender;age_group;income;loc;yoda;princess_leia_organa\n",
       "0  3292879998;да;да;М;18-29;;Южно-Атлантический;о...                         \n",
       "1  3292879538;нет;;М;18-29;0 - 24.999;Юго-Западны...                         \n",
       "2  3292765271;да;нет;М;18-29;0 - 24.999;Северо-За...                         \n",
       "3  3292763116;да;да;М;18-29;100.000 - 149.999;Сев...                         \n",
       "4  3292731220;да;да;М;18-29;100.000 - 149.999;Сев...                         "
      ]
     },
     "execution_count": 5,
     "metadata": {},
     "output_type": "execute_result"
    }
   ],
   "source": [
    "data = pd.read_csv('https://raw.githubusercontent.com/aaparshina/FCI_22-23_data_analysis/main/data/StarWars.csv')\n",
    "data.head()"
   ]
  },
  {
   "cell_type": "markdown",
   "id": "57c59b9b",
   "metadata": {},
   "source": [
    "Упс. Есть проблемы с данными. Нужно в качестве разделителя указать `;`."
   ]
  },
  {
   "cell_type": "code",
   "execution_count": 6,
   "id": "005c969d",
   "metadata": {},
   "outputs": [
    {
     "data": {
      "text/html": [
       "<div>\n",
       "<style scoped>\n",
       "    .dataframe tbody tr th:only-of-type {\n",
       "        vertical-align: middle;\n",
       "    }\n",
       "\n",
       "    .dataframe tbody tr th {\n",
       "        vertical-align: top;\n",
       "    }\n",
       "\n",
       "    .dataframe thead th {\n",
       "        text-align: right;\n",
       "    }\n",
       "</style>\n",
       "<table border=\"1\" class=\"dataframe\">\n",
       "  <thead>\n",
       "    <tr style=\"text-align: right;\">\n",
       "      <th></th>\n",
       "      <th>respondentID</th>\n",
       "      <th>seen</th>\n",
       "      <th>fan</th>\n",
       "      <th>gender</th>\n",
       "      <th>age_group</th>\n",
       "      <th>income</th>\n",
       "      <th>loc</th>\n",
       "      <th>yoda</th>\n",
       "      <th>princess_leia_organa</th>\n",
       "    </tr>\n",
       "  </thead>\n",
       "  <tbody>\n",
       "    <tr>\n",
       "      <th>0</th>\n",
       "      <td>3292879998</td>\n",
       "      <td>да</td>\n",
       "      <td>да</td>\n",
       "      <td>М</td>\n",
       "      <td>18-29</td>\n",
       "      <td>NaN</td>\n",
       "      <td>Южно-Атлантический</td>\n",
       "      <td>очень нравится</td>\n",
       "      <td>очень нравится</td>\n",
       "    </tr>\n",
       "    <tr>\n",
       "      <th>1</th>\n",
       "      <td>3292879538</td>\n",
       "      <td>нет</td>\n",
       "      <td>NaN</td>\n",
       "      <td>М</td>\n",
       "      <td>18-29</td>\n",
       "      <td>0 - 24.999</td>\n",
       "      <td>Юго-Западный центральный</td>\n",
       "      <td>NaN</td>\n",
       "      <td>NaN</td>\n",
       "    </tr>\n",
       "    <tr>\n",
       "      <th>2</th>\n",
       "      <td>3292765271</td>\n",
       "      <td>да</td>\n",
       "      <td>нет</td>\n",
       "      <td>М</td>\n",
       "      <td>18-29</td>\n",
       "      <td>0 - 24.999</td>\n",
       "      <td>Северо-Западный центральный</td>\n",
       "      <td>не знаю такого персонажа</td>\n",
       "      <td>нравится</td>\n",
       "    </tr>\n",
       "    <tr>\n",
       "      <th>3</th>\n",
       "      <td>3292763116</td>\n",
       "      <td>да</td>\n",
       "      <td>да</td>\n",
       "      <td>М</td>\n",
       "      <td>18-29</td>\n",
       "      <td>100.000 - 149.999</td>\n",
       "      <td>Северо-Западный центральный</td>\n",
       "      <td>очень нравится</td>\n",
       "      <td>очень нравится</td>\n",
       "    </tr>\n",
       "    <tr>\n",
       "      <th>4</th>\n",
       "      <td>3292731220</td>\n",
       "      <td>да</td>\n",
       "      <td>да</td>\n",
       "      <td>М</td>\n",
       "      <td>18-29</td>\n",
       "      <td>100.000 - 149.999</td>\n",
       "      <td>Северо-Западный центральный</td>\n",
       "      <td>нравится</td>\n",
       "      <td>нравится</td>\n",
       "    </tr>\n",
       "  </tbody>\n",
       "</table>\n",
       "</div>"
      ],
      "text/plain": [
       "   respondentID seen  fan gender age_group             income  \\\n",
       "0    3292879998   да   да      М     18-29                NaN   \n",
       "1    3292879538  нет  NaN      М     18-29         0 - 24.999   \n",
       "2    3292765271   да  нет      М     18-29         0 - 24.999   \n",
       "3    3292763116   да   да      М     18-29  100.000 - 149.999   \n",
       "4    3292731220   да   да      М     18-29  100.000 - 149.999   \n",
       "\n",
       "                           loc                      yoda princess_leia_organa  \n",
       "0           Южно-Атлантический            очень нравится       очень нравится  \n",
       "1     Юго-Западный центральный                       NaN                  NaN  \n",
       "2  Северо-Западный центральный  не знаю такого персонажа             нравится  \n",
       "3  Северо-Западный центральный            очень нравится       очень нравится  \n",
       "4  Северо-Западный центральный                  нравится             нравится  "
      ]
     },
     "execution_count": 6,
     "metadata": {},
     "output_type": "execute_result"
    }
   ],
   "source": [
    "data = pd.read_csv('https://raw.githubusercontent.com/aaparshina/FCI_22-23_data_analysis/main/data/StarWars.csv',\n",
    "                   sep = ';')\n",
    "data.head()"
   ]
  },
  {
   "cell_type": "markdown",
   "id": "88876d94",
   "metadata": {},
   "source": [
    "**1. К какой шкале относится переменная `loc`?** — Номинальная.\n",
    "\n",
    "**2. Укажите, верно ли следующее утверждение: *мужчины 18-29 лет, которые не являются фанатами серии, чаще всего проживают в Тихоокеанском регионе*.**"
   ]
  },
  {
   "cell_type": "code",
   "execution_count": 7,
   "id": "ad969afd",
   "metadata": {},
   "outputs": [
    {
     "data": {
      "text/plain": [
       "Тихоокеанский                  8\n",
       "Средне-Атлантический           5\n",
       "Новая Англия                   3\n",
       "Северо-Западный центральный    2\n",
       "Южно-Атлантический             1\n",
       "Горный                         1\n",
       "Юго-Восточный центральный      1\n",
       "Name: loc, dtype: int64"
      ]
     },
     "execution_count": 7,
     "metadata": {},
     "output_type": "execute_result"
    }
   ],
   "source": [
    "data[(data['gender'] == 'М') & (data['age_group'] == '18-29') &(data['fan'] == 'нет')]['loc'].value_counts()"
   ]
  },
  {
   "cell_type": "markdown",
   "id": "92e9a08a",
   "metadata": {},
   "source": [
    "**3. Какой регион проживания реже всего встречается в данных?**"
   ]
  },
  {
   "cell_type": "code",
   "execution_count": 10,
   "id": "03418c33",
   "metadata": {},
   "outputs": [
    {
     "data": {
      "text/plain": [
       "Северо-Восточный центральный    181\n",
       "Тихоокеанский                   175\n",
       "Южно-Атлантический              170\n",
       "Средне-Атлантический            122\n",
       "Юго-Западный центральный        110\n",
       "Северо-Западный центральный      93\n",
       "Горный                           79\n",
       "Новая Англия                     75\n",
       "Юго-Восточный центральный        38\n",
       "Name: loc, dtype: int64"
      ]
     },
     "execution_count": 10,
     "metadata": {},
     "output_type": "execute_result"
    }
   ],
   "source": [
    "data['loc'].value_counts()"
   ]
  },
  {
   "cell_type": "markdown",
   "id": "920a6de7",
   "metadata": {},
   "source": [
    "**4. Сколько респондентов не ответили на вопрос, нравится ли им Йода?**"
   ]
  },
  {
   "cell_type": "code",
   "execution_count": 12,
   "id": "100b9e4c",
   "metadata": {},
   "outputs": [
    {
     "data": {
      "text/plain": [
       "360"
      ]
     },
     "execution_count": 12,
     "metadata": {},
     "output_type": "execute_result"
    }
   ],
   "source": [
    "data['yoda'].isna().sum()"
   ]
  },
  {
   "cell_type": "markdown",
   "id": "30b873f1",
   "metadata": {},
   "source": [
    "**5. Скольким респондентам из Новой Англии очень нравится принцесса Лея Органа?**"
   ]
  },
  {
   "cell_type": "code",
   "execution_count": 14,
   "id": "5dcc09e6",
   "metadata": {},
   "outputs": [
    {
     "data": {
      "text/plain": [
       "39"
      ]
     },
     "execution_count": 14,
     "metadata": {},
     "output_type": "execute_result"
    }
   ],
   "source": [
    "data[(data['loc'] == 'Новая Англия') &(data['princess_leia_organa'] == 'очень нравится')].shape[0]"
   ]
  },
  {
   "cell_type": "markdown",
   "id": "b25ac1e2",
   "metadata": {},
   "source": [
    "**6. Сколько респондентов не видели ни одного фильма серии, но считают себя ее фанатами?**"
   ]
  },
  {
   "cell_type": "code",
   "execution_count": 15,
   "id": "f9aabc19",
   "metadata": {},
   "outputs": [
    {
     "data": {
      "text/plain": [
       "0"
      ]
     },
     "execution_count": 15,
     "metadata": {},
     "output_type": "execute_result"
    }
   ],
   "source": [
    "data[(data['seen'] == 'нет') & (data['fan'] == 'да')].shape[0]"
   ]
  },
  {
   "cell_type": "markdown",
   "id": "a9375289",
   "metadata": {},
   "source": [
    "**7.Сколько респондентов не ответили ни на один вопрос?**\n",
    "\n",
    "В Python нам достаточно посмотреть на два первых столбца (`seen` и `fan`) и понять, что уже для них нет таких респондентов, которые не ответили бы сразу на оба вопроса, значит просто не будет строк, где на все вопросы пропущены ответы. "
   ]
  },
  {
   "cell_type": "code",
   "execution_count": 16,
   "id": "5cff28b8",
   "metadata": {},
   "outputs": [
    {
     "data": {
      "text/plain": [
       "0"
      ]
     },
     "execution_count": 16,
     "metadata": {},
     "output_type": "execute_result"
    }
   ],
   "source": [
    "data[(data['seen'].isna()) & (data['fan'].isna())].shape[0]"
   ]
  },
  {
   "cell_type": "markdown",
   "id": "e5ddd388",
   "metadata": {},
   "source": [
    "**8.Посмотрите на мужчин, проживающих в горном районе. В ответ запишите ID респондента, входящего в категорию с наивысшим доходом при заданных условиях.**"
   ]
  },
  {
   "cell_type": "code",
   "execution_count": 17,
   "id": "1bc09b55",
   "metadata": {},
   "outputs": [
    {
     "data": {
      "text/plain": [
       "169    3291077381\n",
       "Name: respondentID, dtype: int64"
      ]
     },
     "execution_count": 17,
     "metadata": {},
     "output_type": "execute_result"
    }
   ],
   "source": [
    "data[(data['loc'] == 'Горный') & (data['gender'] == 'М') & (data['income'] == '150.000+')]['respondentID']"
   ]
  },
  {
   "cell_type": "markdown",
   "id": "120660f8",
   "metadata": {},
   "source": [
    "**9. Укажите, верно ли следующее утверждение: *фанатов серии фильмов в возрастной категории 45-60 меньше, чем не-фанатов в возрастной категории 18-29***."
   ]
  },
  {
   "cell_type": "code",
   "execution_count": 19,
   "id": "c7885fb6",
   "metadata": {},
   "outputs": [
    {
     "data": {
      "text/plain": [
       "False"
      ]
     },
     "execution_count": 19,
     "metadata": {},
     "output_type": "execute_result"
    }
   ],
   "source": [
    "data[(data['fan'] == 'да') & (data['age_group'] == '45-60')].shape[0] \\\n",
    "< data[(data['fan'] == 'нет') & (data['age_group'] == '18-29')].shape[0]"
   ]
  },
  {
   "cell_type": "markdown",
   "id": "4fa32358",
   "metadata": {},
   "source": [
    "**10.Сколько процентов (от общего числа респондентов) являются фанатами серии фильмов, проживают в Новой Англии и имеют доход 0 - 24.999 долларов? В ответ запишите число (процент от 0 до 100), округлите до целого.**"
   ]
  },
  {
   "cell_type": "code",
   "execution_count": 21,
   "id": "03e87964",
   "metadata": {},
   "outputs": [
    {
     "data": {
      "text/plain": [
       "9"
      ]
     },
     "execution_count": 21,
     "metadata": {},
     "output_type": "execute_result"
    }
   ],
   "source": [
    "data[(data['fan'] == 'да') & (data['loc'] == 'Новая Англия') & (data['income'] == '0 - 24.999')].shape[0]"
   ]
  },
  {
   "cell_type": "code",
   "execution_count": 22,
   "id": "d76ec542",
   "metadata": {},
   "outputs": [
    {
     "data": {
      "text/plain": [
       "1186"
      ]
     },
     "execution_count": 22,
     "metadata": {},
     "output_type": "execute_result"
    }
   ],
   "source": [
    "data.shape[0]"
   ]
  },
  {
   "cell_type": "code",
   "execution_count": 26,
   "id": "daada5c5",
   "metadata": {},
   "outputs": [
    {
     "data": {
      "text/plain": [
       "1"
      ]
     },
     "execution_count": 26,
     "metadata": {},
     "output_type": "execute_result"
    }
   ],
   "source": [
    "round(9/1186 * 100)"
   ]
  }
 ],
 "metadata": {
  "kernelspec": {
   "display_name": "Python 3 (ipykernel)",
   "language": "python",
   "name": "python3"
  },
  "language_info": {
   "codemirror_mode": {
    "name": "ipython",
    "version": 3
   },
   "file_extension": ".py",
   "mimetype": "text/x-python",
   "name": "python",
   "nbconvert_exporter": "python",
   "pygments_lexer": "ipython3",
   "version": "3.9.7"
  }
 },
 "nbformat": 4,
 "nbformat_minor": 5
}
