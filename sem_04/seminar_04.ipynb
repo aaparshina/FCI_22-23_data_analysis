{
 "cells": [
  {
   "cell_type": "markdown",
   "id": "e3efee3b",
   "metadata": {},
   "source": [
    "# Анализ данных | Python \n",
    "## ОП «Журналистика», ОП «Медиакоммуникации» 2022/23\n",
    "\n",
    "## Семинар 4 \n",
    "\n",
    "## Генеральная совокупность и выборка. Частотные таблицы и распределения\n",
    "\n",
    "*Автор: Татьяна Рогович*"
   ]
  },
  {
   "cell_type": "code",
   "execution_count": 1,
   "id": "50497738",
   "metadata": {},
   "outputs": [],
   "source": [
    "import pandas as pd # импортировали библиотеку pandas и назвали ее pd \n",
    "data = pd.read_csv('https://raw.githubusercontent.com/aaparshina/FCI_22-23_data_analysis/main/data/titanic.csv')"
   ]
  },
  {
   "cell_type": "markdown",
   "id": "9cced474",
   "metadata": {},
   "source": [
    "Помимо фяильтрации и сортировки, данные можно группировать:"
   ]
  },
  {
   "cell_type": "code",
   "execution_count": 2,
   "id": "c155b95e",
   "metadata": {},
   "outputs": [
    {
     "data": {
      "text/plain": [
       "<pandas.core.groupby.generic.DataFrameGroupBy object at 0x7f82507eafa0>"
      ]
     },
     "execution_count": 2,
     "metadata": {},
     "output_type": "execute_result"
    }
   ],
   "source": [
    "data.groupby('Sex') # разбиение всех объектов на 2 группы по полу - возращает просто сгруппированый датафрейм"
   ]
  },
  {
   "cell_type": "code",
   "execution_count": 3,
   "id": "112a1237",
   "metadata": {},
   "outputs": [
    {
     "data": {
      "text/plain": [
       "Sex     Pclass\n",
       "female  3         144\n",
       "        1          94\n",
       "        2          76\n",
       "male    3         347\n",
       "        1         122\n",
       "        2         108\n",
       "Name: Pclass, dtype: int64"
      ]
     },
     "execution_count": 3,
     "metadata": {},
     "output_type": "execute_result"
    }
   ],
   "source": [
    "data.groupby('Sex')['Pclass'].value_counts() # группируем по полу и считаем для каждого пассажирова разных классов"
   ]
  },
  {
   "cell_type": "code",
   "execution_count": 4,
   "id": "5040d767",
   "metadata": {},
   "outputs": [
    {
     "data": {
      "text/plain": [
       "Sex\n",
       "female    27.915709\n",
       "male      30.726645\n",
       "Name: Age, dtype: float64"
      ]
     },
     "execution_count": 4,
     "metadata": {},
     "output_type": "execute_result"
    }
   ],
   "source": [
    "data.groupby('Sex')['Age'].mean() # средний возраст для пассажиров каждого из полов"
   ]
  },
  {
   "cell_type": "markdown",
   "id": "6ee305eb",
   "metadata": {},
   "source": [
    "Смотреть на числа и таблицы не очень удобно - построим графики!"
   ]
  },
  {
   "cell_type": "code",
   "execution_count": 5,
   "id": "ff5bce8f",
   "metadata": {},
   "outputs": [
    {
     "data": {
      "text/plain": [
       "<AxesSubplot:>"
      ]
     },
     "execution_count": 5,
     "metadata": {},
     "output_type": "execute_result"
    },
    {
     "data": {
      "image/png": "[encoded data removed]",
      "text/plain": [
       "<Figure size 432x288 with 1 Axes>"
      ]
     },
     "metadata": {
      "needs_background": "light"
     },
     "output_type": "display_data"
    }
   ],
   "source": [
    "data['Age'].hist() # гистограмма распределения возраста среди пассажиров"
   ]
  },
  {
   "cell_type": "code",
   "execution_count": 6,
   "id": "802d68e9",
   "metadata": {},
   "outputs": [
    {
     "data": {
      "text/plain": [
       "<AxesSubplot:>"
      ]
     },
     "execution_count": 6,
     "metadata": {},
     "output_type": "execute_result"
    },
    {
     "data": {
      "image/png": "[encoded data removed]",
      "text/plain": [
       "<Figure size 432x288 with 1 Axes>"
      ]
     },
     "metadata": {
      "needs_background": "light"
     },
     "output_type": "display_data"
    }
   ],
   "source": [
    "data['Age'].hist(bins = 30) # увеличили кол-во столбцов (бинов)"
   ]
  },
  {
   "cell_type": "code",
   "execution_count": 7,
   "id": "80f509e8",
   "metadata": {},
   "outputs": [
    {
     "data": {
      "text/plain": [
       "<AxesSubplot:>"
      ]
     },
     "execution_count": 7,
     "metadata": {},
     "output_type": "execute_result"
    },
    {
     "data": {
      "image/png": "[encoded data removed]",
      "text/plain": [
       "<Figure size 432x288 with 1 Axes>"
      ]
     },
     "metadata": {
      "needs_background": "light"
     },
     "output_type": "display_data"
    }
   ],
   "source": [
    "data[data.Sex == 'male']['Age'].hist()  #гистограмма распределения возраста среди мужчин"
   ]
  },
  {
   "cell_type": "markdown",
   "id": "76f647a9",
   "metadata": {},
   "source": [
    "Построим столбчатую диаграмму для признака \"класс пассажира\":\n",
    "\n",
    "1) Сгруппируем все данные по признаку `Pclass` - `data.groupby('Pclass')` и посчитаем количество в каждой из групп - `.size()`"
   ]
  },
  {
   "cell_type": "code",
   "execution_count": 8,
   "id": "313df72b",
   "metadata": {},
   "outputs": [
    {
     "data": {
      "text/plain": [
       "Pclass\n",
       "1    216\n",
       "2    184\n",
       "3    491\n",
       "dtype: int64"
      ]
     },
     "execution_count": 8,
     "metadata": {},
     "output_type": "execute_result"
    }
   ],
   "source": [
    "data.groupby('Pclass').size() "
   ]
  },
  {
   "cell_type": "markdown",
   "id": "858a0c9e",
   "metadata": {},
   "source": [
    "2) На полученных данных построим диаграмму:"
   ]
  },
  {
   "cell_type": "code",
   "execution_count": 11,
   "id": "d1b3d069",
   "metadata": {},
   "outputs": [
    {
     "data": {
      "text/plain": [
       "<AxesSubplot:xlabel='Pclass'>"
      ]
     },
     "execution_count": 11,
     "metadata": {},
     "output_type": "execute_result"
    },
    {
     "data": {
      "image/png": "[encoded data removed]",
      "text/plain": [
       "<Figure size 432x288 with 1 Axes>"
      ]
     },
     "metadata": {
      "needs_background": "light"
     },
     "output_type": "display_data"
    }
   ],
   "source": [
    "data.groupby('Pclass').size().plot(kind = 'bar', color = ['blue', 'red', 'green'])"
   ]
  },
  {
   "cell_type": "code",
   "execution_count": 12,
   "id": "d1cc6dde",
   "metadata": {},
   "outputs": [
    {
     "data": {
      "text/plain": [
       "<AxesSubplot:title={'center':'Passenger classes'}, ylabel='None'>"
      ]
     },
     "execution_count": 12,
     "metadata": {},
     "output_type": "execute_result"
    },
    {
     "data": {
      "image/png": "[encoded data removed]",
      "text/plain": [
       "<Figure size 432x288 with 1 Axes>"
      ]
     },
     "metadata": {},
     "output_type": "display_data"
    }
   ],
   "source": [
    "data.groupby('Pclass').size().plot(kind = 'pie', title = 'Passenger classes')"
   ]
  },
  {
   "cell_type": "markdown",
   "id": "daf0c648",
   "metadata": {},
   "source": [
    "Можно делать и чуть более сложные графики. Давйте посмотрим на распределение выживших среди мужчин и женщин."
   ]
  },
  {
   "cell_type": "code",
   "execution_count": 13,
   "id": "f3f95b13",
   "metadata": {},
   "outputs": [
    {
     "data": {
      "text/plain": [
       "<AxesSubplot:xlabel='Survived,Sex'>"
      ]
     },
     "execution_count": 13,
     "metadata": {},
     "output_type": "execute_result"
    },
    {
     "data": {
      "image/png": "[encoded data removed]",
      "text/plain": [
       "<Figure size 432x288 with 1 Axes>"
      ]
     },
     "metadata": {
      "needs_background": "light"
     },
     "output_type": "display_data"
    }
   ],
   "source": [
    "data.groupby(['Survived'])['Sex'].value_counts().plot(kind = 'bar')"
   ]
  },
  {
   "cell_type": "markdown",
   "id": "3313207d",
   "metadata": {},
   "source": [
    "Так мы видим разбивку, но хотелось бы получить составные столбики. Для этого выполним метод `.unstack()`, который преобразует датафрейм."
   ]
  },
  {
   "cell_type": "code",
   "execution_count": 14,
   "id": "0065f558",
   "metadata": {},
   "outputs": [
    {
     "data": {
      "text/plain": [
       "Survived  Sex   \n",
       "0         male      468\n",
       "          female     81\n",
       "1         female    233\n",
       "          male      109\n",
       "Name: Sex, dtype: int64"
      ]
     },
     "execution_count": 14,
     "metadata": {},
     "output_type": "execute_result"
    }
   ],
   "source": [
    "data.groupby(['Survived'])['Sex'].value_counts() # без unstack"
   ]
  },
  {
   "cell_type": "code",
   "execution_count": 15,
   "id": "2f1786e9",
   "metadata": {},
   "outputs": [
    {
     "data": {
      "text/html": [
       "<div>\n",
       "<style scoped>\n",
       "    .dataframe tbody tr th:only-of-type {\n",
       "        vertical-align: middle;\n",
       "    }\n",
       "\n",
       "    .dataframe tbody tr th {\n",
       "        vertical-align: top;\n",
       "    }\n",
       "\n",
       "    .dataframe thead th {\n",
       "        text-align: right;\n",
       "    }\n",
       "</style>\n",
       "<table border=\"1\" class=\"dataframe\">\n",
       "  <thead>\n",
       "    <tr style=\"text-align: right;\">\n",
       "      <th>Sex</th>\n",
       "      <th>female</th>\n",
       "      <th>male</th>\n",
       "    </tr>\n",
       "    <tr>\n",
       "      <th>Survived</th>\n",
       "      <th></th>\n",
       "      <th></th>\n",
       "    </tr>\n",
       "  </thead>\n",
       "  <tbody>\n",
       "    <tr>\n",
       "      <th>0</th>\n",
       "      <td>81</td>\n",
       "      <td>468</td>\n",
       "    </tr>\n",
       "    <tr>\n",
       "      <th>1</th>\n",
       "      <td>233</td>\n",
       "      <td>109</td>\n",
       "    </tr>\n",
       "  </tbody>\n",
       "</table>\n",
       "</div>"
      ],
      "text/plain": [
       "Sex       female  male\n",
       "Survived              \n",
       "0             81   468\n",
       "1            233   109"
      ]
     },
     "execution_count": 15,
     "metadata": {},
     "output_type": "execute_result"
    }
   ],
   "source": [
    "data.groupby(['Survived'])['Sex'].value_counts().unstack() \n",
    "# с unstack. Обратите внимание, как изменилась структура датафрема."
   ]
  },
  {
   "cell_type": "markdown",
   "id": "f3bcd1f8",
   "metadata": {},
   "source": [
    "А вот его мы уже можем визуализировать. "
   ]
  },
  {
   "cell_type": "code",
   "execution_count": 16,
   "id": "27f38fe6",
   "metadata": {},
   "outputs": [
    {
     "data": {
      "text/plain": [
       "<AxesSubplot:xlabel='Survived'>"
      ]
     },
     "execution_count": 16,
     "metadata": {},
     "output_type": "execute_result"
    },
    {
     "data": {
      "image/png": "[encoded data removed]",
      "text/plain": [
       "<Figure size 432x288 with 1 Axes>"
      ]
     },
     "metadata": {
      "needs_background": "light"
     },
     "output_type": "display_data"
    }
   ],
   "source": [
    "data.groupby(['Survived'])['Sex'].value_counts().unstack().plot(kind = 'bar')"
   ]
  },
  {
   "cell_type": "markdown",
   "id": "a37614dc",
   "metadata": {},
   "source": [
    "Уже лучше. А еще можно добавить дополнительный параметр в метод `.plot()` и станет совсем хорошо."
   ]
  },
  {
   "cell_type": "code",
   "execution_count": 17,
   "id": "848987e3",
   "metadata": {},
   "outputs": [
    {
     "data": {
      "text/plain": [
       "<AxesSubplot:xlabel='Survived'>"
      ]
     },
     "execution_count": 17,
     "metadata": {},
     "output_type": "execute_result"
    },
    {
     "data": {
      "image/png": "[encoded data removed]",
      "text/plain": [
       "<Figure size 432x288 with 1 Axes>"
      ]
     },
     "metadata": {
      "needs_background": "light"
     },
     "output_type": "display_data"
    }
   ],
   "source": [
    "data.groupby(['Survived'])['Sex'].value_counts().unstack().plot(kind='bar', stacked = True)"
   ]
  },
  {
   "cell_type": "markdown",
   "id": "4329cfca",
   "metadata": {},
   "source": [
    "### Дополнительно про распределения\n",
    "\n",
    "Обычно, когда говорят о распределении, представляют сглаженную линию, под которой могли бы находиться все наши данные. Такой график уже показывает нам не сколько раз встречается каждое значение, а какую долю распределения такие значения составляют.\n",
    "\n",
    "Давайте импортируем библиотеку для визуализаций `seaborn`, которая поможет нам построить такой график."
   ]
  },
  {
   "cell_type": "code",
   "execution_count": 18,
   "id": "2dfa4658",
   "metadata": {},
   "outputs": [
    {
     "name": "stderr",
     "output_type": "stream",
     "text": [
      "/Users/anastasiaparsina/opt/anaconda3/lib/python3.9/site-packages/seaborn/distributions.py:2619: FutureWarning: `distplot` is a deprecated function and will be removed in a future version. Please adapt your code to use either `displot` (a figure-level function with similar flexibility) or `histplot` (an axes-level function for histograms).\n",
      "  warnings.warn(msg, FutureWarning)\n"
     ]
    },
    {
     "data": {
      "text/plain": [
       "<AxesSubplot:xlabel='Age', ylabel='Density'>"
      ]
     },
     "execution_count": 18,
     "metadata": {},
     "output_type": "execute_result"
    },
    {
     "data": {
      "image/png": "[encoded data removed]",
      "text/plain": [
       "<Figure size 432x288 with 1 Axes>"
      ]
     },
     "metadata": {
      "needs_background": "light"
     },
     "output_type": "display_data"
    }
   ],
   "source": [
    "import seaborn as sns  # импортируем библиотеку под именем sns\n",
    "\n",
    "sns.distplot(data['Age'].dropna())  \n",
    "# применяем функцию, которая строит график распределения из библиотеки seaborn к нашим данным. \n",
    "# методом .dropna() опускаем ячейки с пропущенными значениями - иначе seaborn сломается."
   ]
  },
  {
   "cell_type": "markdown",
   "id": "09cbd145",
   "metadata": {},
   "source": [
    "В идеальном мире многие вещи распределены нормально (например, вес и рост людей). Это значит, что такое распределение имеет определенные параметры (не будем их обсуждать в этом курсе) и выглядит как колокол (а вот это можно и запомнить). \n",
    "\n",
    "Для некоторых моделей в статистике мы можем применять только переменные, которые распределены нормально. Давайте посмотрим, как распределен возраст пассажиров относительно нормального распределения. Для этого импортируем функцию, которая задает нормальное распределение."
   ]
  },
  {
   "cell_type": "code",
   "execution_count": 19,
   "id": "4bc69f49",
   "metadata": {},
   "outputs": [
    {
     "name": "stderr",
     "output_type": "stream",
     "text": [
      "/Users/anastasiaparsina/opt/anaconda3/lib/python3.9/site-packages/seaborn/distributions.py:2619: FutureWarning: `distplot` is a deprecated function and will be removed in a future version. Please adapt your code to use either `displot` (a figure-level function with similar flexibility) or `histplot` (an axes-level function for histograms).\n",
      "  warnings.warn(msg, FutureWarning)\n"
     ]
    },
    {
     "data": {
      "text/plain": [
       "<AxesSubplot:xlabel='Age', ylabel='Density'>"
      ]
     },
     "execution_count": 19,
     "metadata": {},
     "output_type": "execute_result"
    },
    {
     "data": {
      "image/png": "[encoded data removed]",
      "text/plain": [
       "<Figure size 432x288 with 1 Axes>"
      ]
     },
     "metadata": {
      "needs_background": "light"
     },
     "output_type": "display_data"
    }
   ],
   "source": [
    "# из пакета для работы со статистическими данными и моделями импортируем команду, которая задает нормальное распределение\n",
    "from scipy.stats import norm\n",
    "\n",
    "sns.distplot(data.Age.dropna(), fit=norm)  \n",
    "# параметр fit строит нам еще один график поверх существующего, \n",
    "# сейчас мы просим его построить нормальное распределение "
   ]
  }
 ],
 "metadata": {
  "kernelspec": {
   "display_name": "Python 3 (ipykernel)",
   "language": "python",
   "name": "python3"
  },
  "language_info": {
   "codemirror_mode": {
    "name": "ipython",
    "version": 3
   },
   "file_extension": ".py",
   "mimetype": "text/x-python",
   "name": "python",
   "nbconvert_exporter": "python",
   "pygments_lexer": "ipython3",
   "version": "3.9.7"
  }
 },
 "nbformat": 4,
 "nbformat_minor": 5
}
