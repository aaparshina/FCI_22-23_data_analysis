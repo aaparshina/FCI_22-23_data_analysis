{
 "cells": [
  {
   "cell_type": "markdown",
   "id": "e3efee3b",
   "metadata": {},
   "source": [
    "# Анализ данных | Python \n",
    "## ОП «Журналистика», ОП «Медиакоммуникации» 2022/23\n",
    "\n",
    "## Семинар 4 \n",
    "\n",
    "## Генеральная совокупность и выборка. Частотные таблицы и распределения\n",
    "\n",
    "*Из курса \"Статистика для анализа данных\"*"
   ]
  },
  {
   "cell_type": "markdown",
   "id": "6bfa5a69",
   "metadata": {},
   "source": [
    "### Обсуждение самопроверки из ОК\n",
    "\n",
    "1. Предположим, нам интересно, как студенты университета N относятся к онлайн-обучению. Как может выглядеть наша генеральная совокупность? Выберите один верный ответ. \n",
    "\n",
    "   `а) Студенты IT-направления университета N`\n",
    "   \n",
    "   `б) Преподаватели университета N`\n",
    "   \n",
    "   `в) Все студенты университета N`\n",
    "   \n",
    "   `г) Студенты магистратуры университета N`\n",
    " \n",
    "2. Что не может представлять собой генеральную совокупность? Выберите один верный ответ.\n",
    "\n",
    "    `а) Мужчины в возрастной группе 25-30 лет`\n",
    "    \n",
    "    `б) Россияне`\n",
    "    \n",
    "    `в) Школьники Москвы`\n",
    "    \n",
    "    `г) Нет верного ответа`\n",
    "    \n",
    "3. Предположим, что мы хотим узнать отношение пациентов к качеству обслуживания в поликлинике №0193 города N. Укажите, верно ли следующее утверждение: *для репрезентативной выборки нам достаточно в понедельник опросить посетителей указанного медучреждения*.\n",
    "\n",
    "4. Ученики 10Б класса написали контрольную, за которую могли получить оценку 2, 3, 4 или 5. По их оценкам была построена частотная таблица. Укажите, какие ошибки были допущены в таблице. Считаем, что в классе учится 24 человек, все они писали работу. Выберите один верный ответ.\n",
    "\n",
    "| Оценка 2 | Оценка 3 | Оценка 4 | Оценка 5 |\n",
    "| -----:| -----:| -----:|-----:|\n",
    "| 1 чел. | 4 | 6 | 13 |\n",
    "\n",
    "   `а) Шапка таблицы расположена горизонтально, а не вертикально`\n",
    "   \n",
    "   `б) Нужно учитывать только отличные оценки`\n",
    "   \n",
    "   `в) Неверно указано количество пятерок, оно должно быть записано так: 13 чел.`\n",
    "   \n",
    "   `г) Неверно указано количество двоек, оно должно быть записано так: 1`\n",
    "   \n",
    "5. Предположим, у нас есть информация о ВВП страны N за 10 лет. Укажите, верно ли следующее утверждение: *эти данные можно представить в виде линейного графика, где по оси Х располагаются года, а по оси Y — значение ВВП*.\n",
    "   "
   ]
  },
  {
   "cell_type": "markdown",
   "id": "4786358f",
   "metadata": {},
   "source": [
    "### Обсуждение теста из ОК"
   ]
  },
  {
   "cell_type": "code",
   "execution_count": 2,
   "id": "3be20c85",
   "metadata": {},
   "outputs": [],
   "source": [
    "import pandas as pd # импортировали библиотеку pandas и назвали ее pd "
   ]
  },
  {
   "cell_type": "markdown",
   "id": "1ab10236",
   "metadata": {},
   "source": [
    "Описание данных\n",
    "\n",
    "+ `name` — оригинальное имя персонажа вселенной Marvel\n",
    "+ `align` — принадлежность персонажа к доброй/злой/нейтральной стороне\n",
    "+ `eye` — описание глаз персонажа\n",
    "+ `hair` — описание волос персонажа\n",
    "+ `sex` —  пол персонажа\n",
    "+ `appearances` — количество появлений персонажа\n",
    "+ `first_appearance` — год первого появления персонажа"
   ]
  },
  {
   "cell_type": "code",
   "execution_count": 4,
   "id": "a14a0402",
   "metadata": {},
   "outputs": [
    {
     "data": {
      "text/html": [
       "<div>\n",
       "<style scoped>\n",
       "    .dataframe tbody tr th:only-of-type {\n",
       "        vertical-align: middle;\n",
       "    }\n",
       "\n",
       "    .dataframe tbody tr th {\n",
       "        vertical-align: top;\n",
       "    }\n",
       "\n",
       "    .dataframe thead th {\n",
       "        text-align: right;\n",
       "    }\n",
       "</style>\n",
       "<table border=\"1\" class=\"dataframe\">\n",
       "  <thead>\n",
       "    <tr style=\"text-align: right;\">\n",
       "      <th></th>\n",
       "      <th>name</th>\n",
       "      <th>align</th>\n",
       "      <th>eye</th>\n",
       "      <th>hair</th>\n",
       "      <th>sex</th>\n",
       "      <th>appearances</th>\n",
       "      <th>first_appearance</th>\n",
       "    </tr>\n",
       "  </thead>\n",
       "  <tbody>\n",
       "    <tr>\n",
       "      <th>0</th>\n",
       "      <td>Spider-Man (Peter Parker)</td>\n",
       "      <td>Добрый персонаж</td>\n",
       "      <td>Карие глаза</td>\n",
       "      <td>Каштановые волосы</td>\n",
       "      <td>Мужской персонаж</td>\n",
       "      <td>4043.0</td>\n",
       "      <td>1962.0</td>\n",
       "    </tr>\n",
       "    <tr>\n",
       "      <th>1</th>\n",
       "      <td>Captain America (Steven Rogers)</td>\n",
       "      <td>Добрый персонаж</td>\n",
       "      <td>Голубые глаза</td>\n",
       "      <td>Белые волосы</td>\n",
       "      <td>Мужской персонаж</td>\n",
       "      <td>3360.0</td>\n",
       "      <td>1941.0</td>\n",
       "    </tr>\n",
       "    <tr>\n",
       "      <th>2</th>\n",
       "      <td>Wolverine (James \\\"Logan\\\" Howlett)</td>\n",
       "      <td>Нейтральный персонаж</td>\n",
       "      <td>Голубые глаза</td>\n",
       "      <td>Черные волосы</td>\n",
       "      <td>Мужской персонаж</td>\n",
       "      <td>3061.0</td>\n",
       "      <td>1974.0</td>\n",
       "    </tr>\n",
       "    <tr>\n",
       "      <th>3</th>\n",
       "      <td>Iron Man (Anthony \\\"Tony\\\" Stark)</td>\n",
       "      <td>Добрый персонаж</td>\n",
       "      <td>Голубые глаза</td>\n",
       "      <td>Черные волосы</td>\n",
       "      <td>Мужской персонаж</td>\n",
       "      <td>2961.0</td>\n",
       "      <td>1963.0</td>\n",
       "    </tr>\n",
       "    <tr>\n",
       "      <th>4</th>\n",
       "      <td>Thor (Thor Odinson)</td>\n",
       "      <td>Добрый персонаж</td>\n",
       "      <td>Голубые глаза</td>\n",
       "      <td>Русые волосы</td>\n",
       "      <td>Мужской персонаж</td>\n",
       "      <td>2258.0</td>\n",
       "      <td>1950.0</td>\n",
       "    </tr>\n",
       "  </tbody>\n",
       "</table>\n",
       "</div>"
      ],
      "text/plain": [
       "                                  name                 align            eye  \\\n",
       "0            Spider-Man (Peter Parker)       Добрый персонаж    Карие глаза   \n",
       "1      Captain America (Steven Rogers)       Добрый персонаж  Голубые глаза   \n",
       "2  Wolverine (James \\\"Logan\\\" Howlett)  Нейтральный персонаж  Голубые глаза   \n",
       "3    Iron Man (Anthony \\\"Tony\\\" Stark)       Добрый персонаж  Голубые глаза   \n",
       "4                  Thor (Thor Odinson)       Добрый персонаж  Голубые глаза   \n",
       "\n",
       "                hair               sex  appearances  first_appearance  \n",
       "0  Каштановые волосы  Мужской персонаж       4043.0            1962.0  \n",
       "1       Белые волосы  Мужской персонаж       3360.0            1941.0  \n",
       "2      Черные волосы  Мужской персонаж       3061.0            1974.0  \n",
       "3      Черные волосы  Мужской персонаж       2961.0            1963.0  \n",
       "4       Русые волосы  Мужской персонаж       2258.0            1950.0  "
      ]
     },
     "execution_count": 4,
     "metadata": {},
     "output_type": "execute_result"
    }
   ],
   "source": [
    "data = pd.read_csv('https://raw.githubusercontent.com/aaparshina/FCI_22-23_data_analysis/main/data/MarvelComicCaracters.csv', sep = ';')\n",
    "data.head()"
   ]
  },
  {
   "cell_type": "markdown",
   "id": "88876d94",
   "metadata": {},
   "source": [
    "**1. Какой тип графика из перечисленных наиболее удобен для описания распределения переменной `appearances`?** "
   ]
  },
  {
   "cell_type": "code",
   "execution_count": 7,
   "id": "ba39b51f",
   "metadata": {},
   "outputs": [
    {
     "data": {
      "text/plain": [
       "<AxesSubplot:>"
      ]
     },
     "execution_count": 7,
     "metadata": {},
     "output_type": "execute_result"
    },
    {
     "data": {
      "image/png": "[encoded data removed]",
      "text/plain": [
       "<Figure size 432x288 with 1 Axes>"
      ]
     },
     "metadata": {
      "needs_background": "light"
     },
     "output_type": "display_data"
    }
   ],
   "source": [
    "data['appearances'].hist()"
   ]
  },
  {
   "cell_type": "markdown",
   "id": "661aa094",
   "metadata": {},
   "source": [
    "Ой, почему такой график? Все потому, что большая часть значений лежит от 0 до 500, но есть и выбросы. Как работать с ними, обсудим чуть позже. Давайте пока оставим в нашей переменной только значения, не превышающие 50."
   ]
  },
  {
   "cell_type": "code",
   "execution_count": 11,
   "id": "183289eb",
   "metadata": {},
   "outputs": [
    {
     "data": {
      "text/plain": [
       "<AxesSubplot:>"
      ]
     },
     "execution_count": 11,
     "metadata": {},
     "output_type": "execute_result"
    },
    {
     "data": {
      "image/png": "[encoded data removed]",
      "text/plain": [
       "<Figure size 432x288 with 1 Axes>"
      ]
     },
     "metadata": {
      "needs_background": "light"
     },
     "output_type": "display_data"
    }
   ],
   "source": [
    "data[data['appearances'] < 50]['appearances'].hist()"
   ]
  },
  {
   "cell_type": "markdown",
   "id": "cf286ea7",
   "metadata": {},
   "source": [
    "**2. Укажите, верно ли следующее утверждение: *переменную `name` можно изобразить на интерпретируемом графике*.**"
   ]
  },
  {
   "cell_type": "code",
   "execution_count": 12,
   "id": "9d6bf60a",
   "metadata": {},
   "outputs": [
    {
     "data": {
      "text/plain": [
       "Spider-Man (Peter Parker)                    1\n",
       "Princess Pam (Earth-616)                     1\n",
       "Mysto the Magician (Earth-616)               1\n",
       "Nails Riggly (Earth-616)                     1\n",
       "Napoleon Sack (Earth-616)                    1\n",
       "                                            ..\n",
       "Ancestor (Earth-616)                         1\n",
       "Cissie Guthrie (Earth-616)                   1\n",
       "Dark (Soldiers of Misfortune) (Earth-616)    1\n",
       "Doctor Yesterday (Earth-616)                 1\n",
       "Yologarch (Earth-616)                        1\n",
       "Name: name, Length: 16376, dtype: int64"
      ]
     },
     "execution_count": 12,
     "metadata": {},
     "output_type": "execute_result"
    }
   ],
   "source": [
    "data['name'].value_counts() # будет ли график содержательным, если каждое имя встречается по разу?"
   ]
  },
  {
   "cell_type": "markdown",
   "id": "92e9a08a",
   "metadata": {},
   "source": [
    "**3. По переменной `align` была построена частотная таблица. Укажите, какие ошибки были допущены в таблице. Чтобы проверить ее, постройте таблицу сами, используя удобную вам программу.**\n",
    "\n",
    "| Добрый персонаж | Злой персонаж | Нйтральный персонаж | \n",
    "| -----:| -----:| -----:|\n",
    "| 4636 | 6720 | 2 тыс. | "
   ]
  },
  {
   "cell_type": "code",
   "execution_count": 15,
   "id": "03418c33",
   "metadata": {},
   "outputs": [
    {
     "data": {
      "text/plain": [
       "Злой персонаж           6720\n",
       "Добрый персонаж         4636\n",
       "Нейтральный персонаж    2208\n",
       "Name: align, dtype: int64"
      ]
     },
     "execution_count": 15,
     "metadata": {},
     "output_type": "execute_result"
    }
   ],
   "source": [
    "data['align'].value_counts()"
   ]
  },
  {
   "cell_type": "markdown",
   "id": "920a6de7",
   "metadata": {},
   "source": [
    "**4. Определите три наиболее часто встречающих цвета глаз персонажей, выберите из данных только их и заполните частотную таблицу по переменной `eye`.**"
   ]
  },
  {
   "cell_type": "code",
   "execution_count": 17,
   "id": "100b9e4c",
   "metadata": {},
   "outputs": [
    {
     "data": {
      "text/plain": [
       "Голубые глаза            1962\n",
       "Темно-карие глаза        1924\n",
       "Зеленые глаза             613\n",
       "Черные глаза              555\n",
       "Красные глаза             508\n",
       "Белые глаза               400\n",
       "Желтые глаза              256\n",
       "Серые глаза                95\n",
       "Карие глаза                76\n",
       "Разноцветные глаза         49\n",
       "Фиолетовые глаза           31\n",
       "Оранжевые глаза            25\n",
       "Розовые глаза              21\n",
       "Один глаз                  21\n",
       "Золотые глаза              14\n",
       "Серебристые глаза          12\n",
       "Лиловые глаза              11\n",
       "Янтарные глаза             10\n",
       "Много глаз                  7\n",
       "Нет глаз                    7\n",
       "Желтые глазные яблоки       6\n",
       "Черные глазные яблоки       3\n",
       "Пурпурные глаза             2\n",
       "Фасеточные глаза            1\n",
       "Name: eye, dtype: int64"
      ]
     },
     "execution_count": 17,
     "metadata": {},
     "output_type": "execute_result"
    }
   ],
   "source": [
    "data['eye'].value_counts()"
   ]
  },
  {
   "cell_type": "markdown",
   "id": "30b873f1",
   "metadata": {},
   "source": [
    "**5. Укажите, верно ли следующее утверждение: *у мужских персонажей чаще всего встречаются темно-карие глаза*.**"
   ]
  },
  {
   "cell_type": "code",
   "execution_count": 18,
   "id": "5dcc09e6",
   "metadata": {},
   "outputs": [
    {
     "data": {
      "text/plain": [
       "Темно-карие глаза        1400\n",
       "Голубые глаза            1258\n",
       "Черные глаза              394\n",
       "Красные глаза             377\n",
       "Зеленые глаза             328\n",
       "Белые глаза               292\n",
       "Желтые глаза              174\n",
       "Серые глаза                75\n",
       "Карие глаза                58\n",
       "Разноцветные глаза         28\n",
       "Один глаз                  20\n",
       "Оранжевые глаза            18\n",
       "Розовые глаза              15\n",
       "Фиолетовые глаза           15\n",
       "Золотые глаза              10\n",
       "Янтарные глаза              8\n",
       "Много глаз                  6\n",
       "Серебристые глаза           4\n",
       "Желтые глазные яблоки       4\n",
       "Нет глаз                    3\n",
       "Лиловые глаза               3\n",
       "Черные глазные яблоки       1\n",
       "Фасеточные глаза            1\n",
       "Name: eye, dtype: int64"
      ]
     },
     "execution_count": 18,
     "metadata": {},
     "output_type": "execute_result"
    }
   ],
   "source": [
    "data[data['sex'] == 'Мужской персонаж']['eye'].value_counts()"
   ]
  },
  {
   "cell_type": "markdown",
   "id": "b25ac1e2",
   "metadata": {},
   "source": [
    "**6. Постройте частотную таблицу для персонажей женского пола по переменной `eye`. У скольких из них золотые глаза?**"
   ]
  },
  {
   "cell_type": "code",
   "execution_count": 21,
   "id": "f9aabc19",
   "metadata": {},
   "outputs": [
    {
     "data": {
      "text/plain": [
       "3"
      ]
     },
     "execution_count": 21,
     "metadata": {},
     "output_type": "execute_result"
    }
   ],
   "source": [
    "data[data['sex'] == 'Женский персонаж']['eye'].value_counts()['Золотые глаза']"
   ]
  },
  {
   "cell_type": "markdown",
   "id": "a9375289",
   "metadata": {},
   "source": [
    "**7.Сколько раз появлялся добрый персонаж с пурпурными глазами?**"
   ]
  },
  {
   "cell_type": "code",
   "execution_count": 24,
   "id": "5cff28b8",
   "metadata": {},
   "outputs": [
    {
     "data": {
      "text/plain": [
       "1729    21.0\n",
       "Name: appearances, dtype: float64"
      ]
     },
     "execution_count": 24,
     "metadata": {},
     "output_type": "execute_result"
    }
   ],
   "source": [
    "data[(data['align'] == 'Добрый персонаж') & (data['eye'] == 'Пурпурные глаза')]['appearances']"
   ]
  },
  {
   "cell_type": "markdown",
   "id": "e5ddd388",
   "metadata": {},
   "source": [
    "**8.Были выбраны самые часто встречающиеся цвета глаз персонажей. Далее, только по этим данным, построена столбчатая диаграмма. Что можно сказать, основываясь только на графике?**\n",
    "\n",
    "![](https://github.com/aaparshina/FCI_22-23_data_analysis/blob/main/data/pics/W_02.png?raw=true)\n",
    "\n",
    "    а) Добрых персонажей любят больше, чем остальных\n",
    "    \n",
    "    б) Красные глаза чаще всего встречаются у злых персонажей\n",
    "    \n",
    "    в) Добрых персонажей больше, чем злых\n",
    "    \n",
    "    г) Голубые глаза свойственны добрым персонажам, поэтому встречаются чаще"
   ]
  },
  {
   "cell_type": "markdown",
   "id": "120660f8",
   "metadata": {},
   "source": [
    "**9. Укажите, верно ли следующее утверждение: *больше всего персонажей в первый раз появилось в 1993 году***."
   ]
  },
  {
   "cell_type": "code",
   "execution_count": 26,
   "id": "c7885fb6",
   "metadata": {},
   "outputs": [
    {
     "data": {
      "text/plain": [
       "1993.0    554\n",
       "1994.0    485\n",
       "1992.0    455\n",
       "2006.0    381\n",
       "2008.0    360\n",
       "         ... \n",
       "1952.0     26\n",
       "1956.0     16\n",
       "1957.0      7\n",
       "1959.0      4\n",
       "1958.0      2\n",
       "Name: first_appearance, Length: 75, dtype: int64"
      ]
     },
     "execution_count": 26,
     "metadata": {},
     "output_type": "execute_result"
    }
   ],
   "source": [
    "data['first_appearance'].value_counts()"
   ]
  },
  {
   "cell_type": "markdown",
   "id": "4fa32358",
   "metadata": {},
   "source": [
    "**10.Сколько процентов (от общего числа персонажей) составляют мужские персонажи, которые появлялись больше 100 раз? В ответ запишите число (процент от 0 до 100), округлите до целого.**"
   ]
  },
  {
   "cell_type": "code",
   "execution_count": 27,
   "id": "03e87964",
   "metadata": {},
   "outputs": [
    {
     "data": {
      "text/plain": [
       "277"
      ]
     },
     "execution_count": 27,
     "metadata": {},
     "output_type": "execute_result"
    }
   ],
   "source": [
    "data[(data['sex'] == 'Мужской персонаж') & (data['appearances'] > 100)].shape[0]"
   ]
  },
  {
   "cell_type": "code",
   "execution_count": 28,
   "id": "d76ec542",
   "metadata": {},
   "outputs": [
    {
     "data": {
      "text/plain": [
       "16376"
      ]
     },
     "execution_count": 28,
     "metadata": {},
     "output_type": "execute_result"
    }
   ],
   "source": [
    "data.shape[0]"
   ]
  },
  {
   "cell_type": "code",
   "execution_count": 29,
   "id": "daada5c5",
   "metadata": {},
   "outputs": [
    {
     "data": {
      "text/plain": [
       "2"
      ]
     },
     "execution_count": 29,
     "metadata": {},
     "output_type": "execute_result"
    }
   ],
   "source": [
    "round(277/16376 * 100)"
   ]
  }
 ],
 "metadata": {
  "kernelspec": {
   "display_name": "Python 3 (ipykernel)",
   "language": "python",
   "name": "python3"
  },
  "language_info": {
   "codemirror_mode": {
    "name": "ipython",
    "version": 3
   },
   "file_extension": ".py",
   "mimetype": "text/x-python",
   "name": "python",
   "nbconvert_exporter": "python",
   "pygments_lexer": "ipython3",
   "version": "3.9.7"
  }
 },
 "nbformat": 4,
 "nbformat_minor": 5
}
