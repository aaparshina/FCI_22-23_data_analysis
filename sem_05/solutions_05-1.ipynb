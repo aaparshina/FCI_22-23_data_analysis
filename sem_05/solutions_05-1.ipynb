{
 "cells": [
  {
   "cell_type": "markdown",
   "id": "e3efee3b",
   "metadata": {},
   "source": [
    "# Анализ данных | Python \n",
    "## ОП «Журналистика», ОП «Медиакоммуникации» 2022/23\n",
    "\n",
    "## Семинар 5 \n",
    "\n",
    "## Меры центральной тенденции. Меры разброса\n",
    "\n",
    "*Из курса \"Статистика для анализа данных\"*"
   ]
  },
  {
   "cell_type": "markdown",
   "id": "6bfa5a69",
   "metadata": {},
   "source": [
    "### Обсуждение самопроверки из ОК\n",
    "\n",
    "1. Предположим, что у нас есть выборка из людей, которые на вопрос о любимом цвете чаще всего отвечали «синий». Как называется мера центральной тенденции для переменной, обозначающей любимый цвет? Выберите один верный ответ.\n",
    "\n",
    "   `а) Мода`\n",
    "   \n",
    "   `б) Медиана`\n",
    "   \n",
    "   `в) Среднее`\n",
    "   \n",
    "   `г) Межкватильный размах`\n",
    " \n",
    "2. Предположим, что у нас есть ряд X = [0, 3, 41, 4, 4, 1]. Чему будет равна медиана? Выберите один верный ответ.\n",
    "\n",
    "    `а) 3`\n",
    "    \n",
    "    `б) 3.5`\n",
    "    \n",
    "    `в) 4`\n",
    "    \n",
    "    `г) 41`\n",
    "    \n",
    "3. Для каких данных нельзя найти медиану? Выберите один верный ответ.\n",
    "\n",
    "    `а) Возраст`\n",
    "    \n",
    "    `б) Доход`\n",
    "    \n",
    "    `в) Количество просмотров`\n",
    "    \n",
    "    `г) Имена респондентов`\n",
    "\n",
    "\n",
    "4. Предположим, у нас есть данные о любимом времени года респондента. Укажите, верно ли следующее утверждение: *единственная мера центральной тенденции, которую можно посчитать для этих данных — это мода*.\n",
    "\n",
    "   \n",
    "5. Предположим, что мода по возрасту опрошенных нами респондентов равна 50. Какой вывод мы можем сделать по полученному значению? Выберите один верный ответ.\n",
    "\n",
    "    `а) Чаще всего в нашей выборке встречаются пятидесятилетние респонденты`\n",
    "    \n",
    "    `б) Средний возраст наших респондентов — 50 лет`\n",
    "    \n",
    "    `в) Реже всего в нашей выборке встречаются пятидесятилетние респонденты`\n",
    "    \n",
    "    `г) 50 лет — это экстремальное значение в наших данных`   "
   ]
  },
  {
   "cell_type": "markdown",
   "id": "4786358f",
   "metadata": {},
   "source": [
    "### Обсуждение теста из ОК"
   ]
  },
  {
   "cell_type": "code",
   "execution_count": 2,
   "id": "3be20c85",
   "metadata": {},
   "outputs": [],
   "source": [
    "import pandas as pd # импортировали библиотеку pandas и назвали ее pd "
   ]
  },
  {
   "cell_type": "markdown",
   "id": "1ab10236",
   "metadata": {},
   "source": [
    "Описание данных\n",
    "\n",
    "+ `name` — оригинальное имя персонажа вселенной Marvel\n",
    "+ `align` — принадлежность персонажа к доброй/злой/нейтральной стороне\n",
    "+ `eye` — описание глаз персонажа\n",
    "+ `hair` — описание волос персонажа\n",
    "+ `sex` —  пол персонажа\n",
    "+ `appearances` — количество появлений персонажа\n",
    "+ `first_appearance` — год первого появления персонажа"
   ]
  },
  {
   "cell_type": "code",
   "execution_count": 3,
   "id": "a14a0402",
   "metadata": {},
   "outputs": [
    {
     "data": {
      "text/html": [
       "<div>\n",
       "<style scoped>\n",
       "    .dataframe tbody tr th:only-of-type {\n",
       "        vertical-align: middle;\n",
       "    }\n",
       "\n",
       "    .dataframe tbody tr th {\n",
       "        vertical-align: top;\n",
       "    }\n",
       "\n",
       "    .dataframe thead th {\n",
       "        text-align: right;\n",
       "    }\n",
       "</style>\n",
       "<table border=\"1\" class=\"dataframe\">\n",
       "  <thead>\n",
       "    <tr style=\"text-align: right;\">\n",
       "      <th></th>\n",
       "      <th>name</th>\n",
       "      <th>align</th>\n",
       "      <th>eye</th>\n",
       "      <th>hair</th>\n",
       "      <th>sex</th>\n",
       "      <th>appearances</th>\n",
       "      <th>first_appearance</th>\n",
       "    </tr>\n",
       "  </thead>\n",
       "  <tbody>\n",
       "    <tr>\n",
       "      <th>0</th>\n",
       "      <td>Spider-Man (Peter Parker)</td>\n",
       "      <td>Добрый персонаж</td>\n",
       "      <td>Карие глаза</td>\n",
       "      <td>Каштановые волосы</td>\n",
       "      <td>Мужской персонаж</td>\n",
       "      <td>4043.0</td>\n",
       "      <td>1962.0</td>\n",
       "    </tr>\n",
       "    <tr>\n",
       "      <th>1</th>\n",
       "      <td>Captain America (Steven Rogers)</td>\n",
       "      <td>Добрый персонаж</td>\n",
       "      <td>Голубые глаза</td>\n",
       "      <td>Белые волосы</td>\n",
       "      <td>Мужской персонаж</td>\n",
       "      <td>3360.0</td>\n",
       "      <td>1941.0</td>\n",
       "    </tr>\n",
       "    <tr>\n",
       "      <th>2</th>\n",
       "      <td>Wolverine (James \\\"Logan\\\" Howlett)</td>\n",
       "      <td>Нейтральный персонаж</td>\n",
       "      <td>Голубые глаза</td>\n",
       "      <td>Черные волосы</td>\n",
       "      <td>Мужской персонаж</td>\n",
       "      <td>3061.0</td>\n",
       "      <td>1974.0</td>\n",
       "    </tr>\n",
       "    <tr>\n",
       "      <th>3</th>\n",
       "      <td>Iron Man (Anthony \\\"Tony\\\" Stark)</td>\n",
       "      <td>Добрый персонаж</td>\n",
       "      <td>Голубые глаза</td>\n",
       "      <td>Черные волосы</td>\n",
       "      <td>Мужской персонаж</td>\n",
       "      <td>2961.0</td>\n",
       "      <td>1963.0</td>\n",
       "    </tr>\n",
       "    <tr>\n",
       "      <th>4</th>\n",
       "      <td>Thor (Thor Odinson)</td>\n",
       "      <td>Добрый персонаж</td>\n",
       "      <td>Голубые глаза</td>\n",
       "      <td>Русые волосы</td>\n",
       "      <td>Мужской персонаж</td>\n",
       "      <td>2258.0</td>\n",
       "      <td>1950.0</td>\n",
       "    </tr>\n",
       "  </tbody>\n",
       "</table>\n",
       "</div>"
      ],
      "text/plain": [
       "                                  name                 align            eye  \\\n",
       "0            Spider-Man (Peter Parker)       Добрый персонаж    Карие глаза   \n",
       "1      Captain America (Steven Rogers)       Добрый персонаж  Голубые глаза   \n",
       "2  Wolverine (James \\\"Logan\\\" Howlett)  Нейтральный персонаж  Голубые глаза   \n",
       "3    Iron Man (Anthony \\\"Tony\\\" Stark)       Добрый персонаж  Голубые глаза   \n",
       "4                  Thor (Thor Odinson)       Добрый персонаж  Голубые глаза   \n",
       "\n",
       "                hair               sex  appearances  first_appearance  \n",
       "0  Каштановые волосы  Мужской персонаж       4043.0            1962.0  \n",
       "1       Белые волосы  Мужской персонаж       3360.0            1941.0  \n",
       "2      Черные волосы  Мужской персонаж       3061.0            1974.0  \n",
       "3      Черные волосы  Мужской персонаж       2961.0            1963.0  \n",
       "4       Русые волосы  Мужской персонаж       2258.0            1950.0  "
      ]
     },
     "execution_count": 3,
     "metadata": {},
     "output_type": "execute_result"
    }
   ],
   "source": [
    "data = pd.read_csv('https://raw.githubusercontent.com/aaparshina/FCI_22-23_data_analysis/main/data/MarvelComicCaracters.csv', sep = ';')\n",
    "data.head()"
   ]
  },
  {
   "cell_type": "markdown",
   "id": "88876d94",
   "metadata": {},
   "source": [
    "**1. Какова мода по переменной `eye`? "
   ]
  },
  {
   "cell_type": "code",
   "execution_count": 4,
   "id": "ba39b51f",
   "metadata": {},
   "outputs": [
    {
     "data": {
      "text/plain": [
       "0    Голубые глаза\n",
       "Name: eye, dtype: object"
      ]
     },
     "execution_count": 4,
     "metadata": {},
     "output_type": "execute_result"
    }
   ],
   "source": [
    "data['eye'].mode()"
   ]
  },
  {
   "cell_type": "markdown",
   "id": "cf286ea7",
   "metadata": {},
   "source": [
    "**2. Укажите, верно ли следующее утверждение: *для переменной `eye` можно определить медиану*.**"
   ]
  },
  {
   "cell_type": "markdown",
   "id": "92e9a08a",
   "metadata": {},
   "source": [
    "**3. Вам представлены утверждения о мерах центральной тенденции (среднее арифметическое, мода, медиана) для переменной `appearances`. Какое из них верно? Выберите один верный ответ.**\n",
    "\n",
    "   `а) Для переменной appearances можно рассчитать медиану, моду и среднее арифметическое`\n",
    "    \n",
    "   `б) Для переменной appearances нельзя рассчитать меры центральной тенденции`\n",
    "    \n",
    "   `в) Для переменной appearances можно посчитать только медиану`\n",
    "    \n",
    "   `г) Для переменной appearances можно определить моду, но нельзя посчитать среднее значение`\n",
    "    \n",
    "   `д) Для переменной appearances можно определить моду, но нельзя посчитать медиану`"
   ]
  },
  {
   "cell_type": "markdown",
   "id": "920a6de7",
   "metadata": {},
   "source": [
    "**4. Укажите, верно ли следующее утверждение: мода по переменной `hair` для женских персонажей равна моде по переменной `hair` для мужских персонажей.**"
   ]
  },
  {
   "cell_type": "code",
   "execution_count": 10,
   "id": "100b9e4c",
   "metadata": {},
   "outputs": [
    {
     "data": {
      "text/plain": [
       "0    True\n",
       "Name: hair, dtype: bool"
      ]
     },
     "execution_count": 10,
     "metadata": {},
     "output_type": "execute_result"
    }
   ],
   "source": [
    "data[data['sex'] == 'Мужской персонаж']['hair'].mode() == \\\n",
    "data[data['sex'] == 'Женский персонаж']['hair'].mode()"
   ]
  },
  {
   "cell_type": "markdown",
   "id": "30b873f1",
   "metadata": {},
   "source": [
    "**5. Вам представлены утверждения о мерах разброса (размах и межквартильных размах) для переменной `hair`. Какое из них верно? Выберите один верный ответ.**\n",
    "\n",
    "   `а) Для переменной hair невозможно определить размах, но можно посчитать межквартильный размах`\n",
    "   \n",
    "   `б) Для переменной hair можно определить размах, но нельзя посчитать межквартильный размах`\n",
    "    \n",
    "   `в) Для переменной hair невозможно посчитать обе меры разброса`\n",
    "        \n",
    "   `г) Для переменной hair можно посчитать обе меры разброса`"
   ]
  },
  {
   "cell_type": "markdown",
   "id": "b25ac1e2",
   "metadata": {},
   "source": [
    "**6. Выберите только злых персонажей и определите медиану по переменной `appearances`.**"
   ]
  },
  {
   "cell_type": "code",
   "execution_count": 12,
   "id": "f9aabc19",
   "metadata": {},
   "outputs": [
    {
     "data": {
      "text/plain": [
       "3.0"
      ]
     },
     "execution_count": 12,
     "metadata": {},
     "output_type": "execute_result"
    }
   ],
   "source": [
    "data[data['align'] == 'Злой персонаж']['appearances'].median()"
   ]
  },
  {
   "cell_type": "markdown",
   "id": "a9375289",
   "metadata": {},
   "source": [
    "**7.Найдите дисперсию по переменной appearances. Помните, что мы работаем с генеральной совокупностью.**"
   ]
  },
  {
   "cell_type": "code",
   "execution_count": 13,
   "id": "5cff28b8",
   "metadata": {},
   "outputs": [
    {
     "data": {
      "text/plain": [
       "9287.139461896795"
      ]
     },
     "execution_count": 13,
     "metadata": {},
     "output_type": "execute_result"
    }
   ],
   "source": [
    "data['appearances'].var(ddof = 0)"
   ]
  },
  {
   "cell_type": "markdown",
   "id": "e5ddd388",
   "metadata": {},
   "source": [
    "**8.Найдите моду по переменной `first_appearance`.**"
   ]
  },
  {
   "cell_type": "code",
   "execution_count": 14,
   "id": "96f3ffc2",
   "metadata": {},
   "outputs": [
    {
     "data": {
      "text/plain": [
       "0    1993.0\n",
       "Name: first_appearance, dtype: float64"
      ]
     },
     "execution_count": 14,
     "metadata": {},
     "output_type": "execute_result"
    }
   ],
   "source": [
    "data['first_appearance'].mode()"
   ]
  },
  {
   "cell_type": "markdown",
   "id": "120660f8",
   "metadata": {},
   "source": [
    "**9. Укажите, верно ли следующее утверждение: *если убрать первые пятьсот наблюдений в наших данных, то мода по переменной eye не изменится.***."
   ]
  },
  {
   "cell_type": "code",
   "execution_count": 15,
   "id": "c7885fb6",
   "metadata": {},
   "outputs": [
    {
     "data": {
      "text/plain": [
       "0    Голубые глаза\n",
       "Name: eye, dtype: object"
      ]
     },
     "execution_count": 15,
     "metadata": {},
     "output_type": "execute_result"
    }
   ],
   "source": [
    "data['eye'].mode()"
   ]
  },
  {
   "cell_type": "code",
   "execution_count": 18,
   "id": "c772cd13",
   "metadata": {},
   "outputs": [
    {
     "data": {
      "text/plain": [
       "0    Темно-карие глаза\n",
       "Name: eye, dtype: object"
      ]
     },
     "execution_count": 18,
     "metadata": {},
     "output_type": "execute_result"
    }
   ],
   "source": [
    "data[data.index > 500]['eye'].mode()"
   ]
  },
  {
   "cell_type": "markdown",
   "id": "4fa32358",
   "metadata": {},
   "source": [
    "**10.Определите моду по переменной `hair`, затем выберите только тех персонажей, цвет волос которых соответствует найденной моде. По имеющемуся подмассиву данных по переменной `appearances` рассчитайте стандартное отклонение. Помните, что мы работаем с генеральной совокупностью. В ответ запишите число, округлите до целого.**"
   ]
  },
  {
   "cell_type": "code",
   "execution_count": 21,
   "id": "03e87964",
   "metadata": {},
   "outputs": [
    {
     "data": {
      "text/plain": [
       "94.13253937689935"
      ]
     },
     "execution_count": 21,
     "metadata": {},
     "output_type": "execute_result"
    }
   ],
   "source": [
    "data[data['hair'] == data['hair'].mode()[0]]['appearances'].std(ddof = 0)"
   ]
  }
 ],
 "metadata": {
  "kernelspec": {
   "display_name": "Python 3 (ipykernel)",
   "language": "python",
   "name": "python3"
  },
  "language_info": {
   "codemirror_mode": {
    "name": "ipython",
    "version": 3
   },
   "file_extension": ".py",
   "mimetype": "text/x-python",
   "name": "python",
   "nbconvert_exporter": "python",
   "pygments_lexer": "ipython3",
   "version": "3.9.7"
  }
 },
 "nbformat": 4,
 "nbformat_minor": 5
}
