{
 "cells": [
  {
   "cell_type": "markdown",
   "id": "e3efee3b",
   "metadata": {},
   "source": [
    "# Анализ данных | Python \n",
    "## ОП «Журналистика», ОП «Медиакоммуникации» 2022/23\n",
    "\n",
    "## Семинар 7 \n",
    "\n",
    "## Корреляция\n",
    "\n",
    "*Из курса \"Статистика для анализа данных\"*"
   ]
  },
  {
   "cell_type": "markdown",
   "id": "33ece3c3",
   "metadata": {},
   "source": [
    "### Обсуждение самороверки из ОК\n",
    "\n",
    "1. Между какими данными возможно рассчитать коэффициент корреляции? \n",
    "\n",
    "   `а) Возраст и количество прочитанных за месяц книг`\n",
    "   \n",
    "   `б) Любимый цвет и любимая книга`\n",
    "   \n",
    "   `в) Любимый цвет и возраст`\n",
    "   \n",
    "   `г) Любимый десерт и возраст`\n",
    "   \n",
    "2. Предположим, что данные о возрасте и доходе наших респондентов выглядят следующим образом: X = [13, 21, 30, 65, 50], Y = [200, 90, 10, 83, 12]. Чему будет равен коэффициент корреляции Пирсона? "
   ]
  },
  {
   "cell_type": "code",
   "execution_count": 12,
   "id": "eca24416",
   "metadata": {},
   "outputs": [
    {
     "data": {
      "text/plain": [
       "-0.5065445406508795"
      ]
     },
     "execution_count": 12,
     "metadata": {},
     "output_type": "execute_result"
    }
   ],
   "source": [
    "import pandas as pd\n",
    "\n",
    "X = [13, 21, 30, 65, 50]\n",
    "Y = [200, 90, 10, 83, 12]\n",
    "\n",
    "data = pd.DataFrame(data = {'X':X, 'Y':Y})\n",
    "data['X'].corr(data['Y'])"
   ]
  },
  {
   "cell_type": "markdown",
   "id": "5930a535",
   "metadata": {},
   "source": [
    "3. Предположим, что коэффициент корреляции равен 0.13. Какой вывод можно сделать о связи между переменными, по которым был подсчитан коэффициент? \n",
    "\n",
    "   `а) Связь умеренная прямая`\n",
    "   \n",
    "   `б) Связь слабая прямая`\n",
    "   \n",
    "   `в) Связь умеренная обратная`\n",
    "   \n",
    "   `г) Связь сильная прямая`\n",
    "   \n",
    "4. Изучите график и укажите, верно ли следующее утверждение: *взаимосвязь между переменными умеренная прямая*.\n",
    "\n",
    "![](https://github.com/aaparshina/FCI_22-23_data_analysis/blob/main/data/pics/W_05.png?raw=true)\n",
    "\n",
    "5. Предположим, что наша линейная зависимость дохода от количества научных публикаций выглядит следующим образом: **доход = 123.4 + 12 х количество публикаций**. Чему будет равен ожидаемый доход, если публикаций нет?"
   ]
  },
  {
   "cell_type": "markdown",
   "id": "4786358f",
   "metadata": {},
   "source": [
    "### Обсуждение теста из ОК"
   ]
  },
  {
   "cell_type": "code",
   "execution_count": 2,
   "id": "3be20c85",
   "metadata": {},
   "outputs": [],
   "source": [
    "import pandas as pd # импортировали библиотеку pandas и назвали ее pd "
   ]
  },
  {
   "cell_type": "markdown",
   "id": "1ab10236",
   "metadata": {},
   "source": [
    "Описание данных\n",
    "\n",
    "+ `gameid` — номер игры в скрэббл\n",
    "+ `tourneyid` — номер турнира\n",
    "+ `tie` — игра закончилась вничью\n",
    "+ `winnerid` — порядковый номер победителя\n",
    "+ `winnername` — имя победителя\n",
    "+ `winnerscore` — набранные победителем очки\n",
    "+ `winneroldrating` — рейтинг победителя до игры\n",
    "+ `winnernewrating` — рейтинг победителя после игры\n",
    "+ `winnerpos` — место победителя в турнире\n",
    "+ `loserid` — порядковый номер проигравшего\n",
    "+ `loserscore` — набранные проигравшем очки\n",
    "+ `loseroldrating` — рейтинг проигравшего до игры\n",
    "+ `losernewrating` — рейтинг проигравшего после игры\n",
    "+ `loserpos` — место проигравшего в турнире\n",
    "+ `round` — раунд турнира, в котором проходила игра\n",
    "+ `division` — дивизион турнира, в котором проходила игра\n",
    "+ `date` — дата игры\n",
    "+ `lexicon` — набор слов, который использовался в игре (международный – 1; характерный для Северной Америки – 0)\n",
    "+ `year` — год"
   ]
  },
  {
   "cell_type": "code",
   "execution_count": 14,
   "id": "a14a0402",
   "metadata": {},
   "outputs": [
    {
     "data": {
      "text/html": [
       "<div>\n",
       "<style scoped>\n",
       "    .dataframe tbody tr th:only-of-type {\n",
       "        vertical-align: middle;\n",
       "    }\n",
       "\n",
       "    .dataframe tbody tr th {\n",
       "        vertical-align: top;\n",
       "    }\n",
       "\n",
       "    .dataframe thead th {\n",
       "        text-align: right;\n",
       "    }\n",
       "</style>\n",
       "<table border=\"1\" class=\"dataframe\">\n",
       "  <thead>\n",
       "    <tr style=\"text-align: right;\">\n",
       "      <th></th>\n",
       "      <th>gameid</th>\n",
       "      <th>tourneyid</th>\n",
       "      <th>tie</th>\n",
       "      <th>winnerid</th>\n",
       "      <th>winnername</th>\n",
       "      <th>winnerscore</th>\n",
       "      <th>winneroldrating</th>\n",
       "      <th>winnernewrating</th>\n",
       "      <th>winnerpos</th>\n",
       "      <th>loserid</th>\n",
       "      <th>losername</th>\n",
       "      <th>loserscore</th>\n",
       "      <th>loseroldrating</th>\n",
       "      <th>losernewrating</th>\n",
       "      <th>loserpos</th>\n",
       "      <th>round</th>\n",
       "      <th>division</th>\n",
       "      <th>date</th>\n",
       "      <th>lexicon</th>\n",
       "      <th>year</th>\n",
       "    </tr>\n",
       "  </thead>\n",
       "  <tbody>\n",
       "    <tr>\n",
       "      <th>0</th>\n",
       "      <td>451519</td>\n",
       "      <td>1590</td>\n",
       "      <td>0</td>\n",
       "      <td>38</td>\n",
       "      <td>Matt Laufer</td>\n",
       "      <td>0</td>\n",
       "      <td>1892</td>\n",
       "      <td>1877</td>\n",
       "      <td>5</td>\n",
       "      <td>608</td>\n",
       "      <td>Pam Grazette</td>\n",
       "      <td>0</td>\n",
       "      <td>1712</td>\n",
       "      <td>1692</td>\n",
       "      <td>14</td>\n",
       "      <td>1</td>\n",
       "      <td>1</td>\n",
       "      <td>1994-03-11</td>\n",
       "      <td>0</td>\n",
       "      <td>1994</td>\n",
       "    </tr>\n",
       "    <tr>\n",
       "      <th>1</th>\n",
       "      <td>451520</td>\n",
       "      <td>1590</td>\n",
       "      <td>0</td>\n",
       "      <td>38</td>\n",
       "      <td>Matt Laufer</td>\n",
       "      <td>0</td>\n",
       "      <td>1892</td>\n",
       "      <td>1877</td>\n",
       "      <td>5</td>\n",
       "      <td>82</td>\n",
       "      <td>Sally Ricketts</td>\n",
       "      <td>0</td>\n",
       "      <td>1390</td>\n",
       "      <td>1347</td>\n",
       "      <td>36</td>\n",
       "      <td>3</td>\n",
       "      <td>1</td>\n",
       "      <td>1994-03-11</td>\n",
       "      <td>0</td>\n",
       "      <td>1994</td>\n",
       "    </tr>\n",
       "    <tr>\n",
       "      <th>2</th>\n",
       "      <td>451521</td>\n",
       "      <td>1590</td>\n",
       "      <td>0</td>\n",
       "      <td>38</td>\n",
       "      <td>Matt Laufer</td>\n",
       "      <td>0</td>\n",
       "      <td>1892</td>\n",
       "      <td>1877</td>\n",
       "      <td>5</td>\n",
       "      <td>4001</td>\n",
       "      <td>James Guillot</td>\n",
       "      <td>0</td>\n",
       "      <td>1712</td>\n",
       "      <td>1700</td>\n",
       "      <td>22</td>\n",
       "      <td>5</td>\n",
       "      <td>1</td>\n",
       "      <td>1994-03-11</td>\n",
       "      <td>0</td>\n",
       "      <td>1994</td>\n",
       "    </tr>\n",
       "    <tr>\n",
       "      <th>3</th>\n",
       "      <td>451522</td>\n",
       "      <td>1590</td>\n",
       "      <td>0</td>\n",
       "      <td>38</td>\n",
       "      <td>Matt Laufer</td>\n",
       "      <td>0</td>\n",
       "      <td>1892</td>\n",
       "      <td>1877</td>\n",
       "      <td>5</td>\n",
       "      <td>5676</td>\n",
       "      <td>Rhoda Squires</td>\n",
       "      <td>0</td>\n",
       "      <td>1642</td>\n",
       "      <td>1591</td>\n",
       "      <td>29</td>\n",
       "      <td>8</td>\n",
       "      <td>1</td>\n",
       "      <td>1994-03-11</td>\n",
       "      <td>0</td>\n",
       "      <td>1994</td>\n",
       "    </tr>\n",
       "    <tr>\n",
       "      <th>4</th>\n",
       "      <td>451523</td>\n",
       "      <td>1590</td>\n",
       "      <td>0</td>\n",
       "      <td>38</td>\n",
       "      <td>Matt Laufer</td>\n",
       "      <td>0</td>\n",
       "      <td>1892</td>\n",
       "      <td>1877</td>\n",
       "      <td>5</td>\n",
       "      <td>4001</td>\n",
       "      <td>James Guillot</td>\n",
       "      <td>0</td>\n",
       "      <td>1712</td>\n",
       "      <td>1700</td>\n",
       "      <td>22</td>\n",
       "      <td>9</td>\n",
       "      <td>1</td>\n",
       "      <td>1994-03-11</td>\n",
       "      <td>0</td>\n",
       "      <td>1994</td>\n",
       "    </tr>\n",
       "  </tbody>\n",
       "</table>\n",
       "</div>"
      ],
      "text/plain": [
       "   gameid  tourneyid  tie  winnerid   winnername  winnerscore  \\\n",
       "0  451519       1590    0        38  Matt Laufer            0   \n",
       "1  451520       1590    0        38  Matt Laufer            0   \n",
       "2  451521       1590    0        38  Matt Laufer            0   \n",
       "3  451522       1590    0        38  Matt Laufer            0   \n",
       "4  451523       1590    0        38  Matt Laufer            0   \n",
       "\n",
       "   winneroldrating  winnernewrating  winnerpos  loserid       losername  \\\n",
       "0             1892             1877          5      608    Pam Grazette   \n",
       "1             1892             1877          5       82  Sally Ricketts   \n",
       "2             1892             1877          5     4001   James Guillot   \n",
       "3             1892             1877          5     5676   Rhoda Squires   \n",
       "4             1892             1877          5     4001   James Guillot   \n",
       "\n",
       "   loserscore  loseroldrating  losernewrating  loserpos  round  division  \\\n",
       "0           0            1712            1692        14      1         1   \n",
       "1           0            1390            1347        36      3         1   \n",
       "2           0            1712            1700        22      5         1   \n",
       "3           0            1642            1591        29      8         1   \n",
       "4           0            1712            1700        22      9         1   \n",
       "\n",
       "         date  lexicon  year  \n",
       "0  1994-03-11        0  1994  \n",
       "1  1994-03-11        0  1994  \n",
       "2  1994-03-11        0  1994  \n",
       "3  1994-03-11        0  1994  \n",
       "4  1994-03-11        0  1994  "
      ]
     },
     "execution_count": 14,
     "metadata": {},
     "output_type": "execute_result"
    }
   ],
   "source": [
    "data = pd.read_csv('https://raw.githubusercontent.com/aaparshina/FCI_22-23_data_analysis/main/data/ScrabbleGames.csv')\n",
    "data.head()"
   ]
  },
  {
   "cell_type": "markdown",
   "id": "88876d94",
   "metadata": {},
   "source": [
    "**1. Сгруппируйте датафрейм по переменной `tourneyid`, затем определите тип взаимосвязи между средними значениями переменных `winnerscore` и `winnernewrating`.**"
   ]
  },
  {
   "cell_type": "code",
   "execution_count": 17,
   "id": "ba39b51f",
   "metadata": {},
   "outputs": [
    {
     "data": {
      "text/plain": [
       "-0.6040132147335744"
      ]
     },
     "execution_count": 17,
     "metadata": {},
     "output_type": "execute_result"
    }
   ],
   "source": [
    "dt1 = data.groupby('tourneyid').mean()\n",
    "dt1['winnerscore'].corr(dt1['winnernewrating'])\n",
    "# слабая — от 0.1 до 0.3; умеренная — от 0.3 до 0.5; заметная — от 0.5 до 0.7; \n",
    "# высокая — от 0.7 до 0.9; весьма высокая (сильная) — от 0.9 до 1"
   ]
  },
  {
   "cell_type": "markdown",
   "id": "cf286ea7",
   "metadata": {},
   "source": [
    "**2.Укажите, верно ли следующее утверждение: очки, набранные победителем, напрямую и сильно зависят от очков, набранных проигравшим. Сгруппируйте датафрейм по переменной `tourneyid` и посмотрите на средние значения интересующих нас переменных.**"
   ]
  },
  {
   "cell_type": "code",
   "execution_count": 20,
   "id": "165c4501",
   "metadata": {},
   "outputs": [
    {
     "data": {
      "text/plain": [
       "0.9999382016001124"
      ]
     },
     "execution_count": 20,
     "metadata": {},
     "output_type": "execute_result"
    }
   ],
   "source": [
    "dt1['winnerscore'].corr(dt1['loserscore'])"
   ]
  },
  {
   "cell_type": "markdown",
   "id": "92e9a08a",
   "metadata": {},
   "source": [
    "**3. Между какими переменными можно найти интерпретируемый коэффициент корреляции?**\n",
    "\n",
    "   `а) loserid и loserpos`\n",
    "   \n",
    "   `б) winnerpos и loserpos`\n",
    "   \n",
    "   `в) gameid и tie`\n",
    "   \n",
    "   `г) winnerid и loserid`"
   ]
  },
  {
   "cell_type": "markdown",
   "id": "920a6de7",
   "metadata": {},
   "source": [
    "**4. Что можно сказать по графику о взаимосвязи переменных `winnerscore` и `winnernewrating`?**\n",
    "\n",
    "![](https://github.com/aaparshina/FCI_22-23_data_analysis/blob/main/data/pics/W_07.png?raw=true)"
   ]
  },
  {
   "cell_type": "markdown",
   "id": "30b873f1",
   "metadata": {},
   "source": [
    "**5. Сгруппируйте датафрейм по переменной `tourneyid`, затем рассчитайте коэффициент корреляции между средними значениями переменных `winnernewrating` и `losernewrating`.**"
   ]
  },
  {
   "cell_type": "code",
   "execution_count": 21,
   "id": "4a194f55",
   "metadata": {},
   "outputs": [
    {
     "data": {
      "text/plain": [
       "0.9783569191327571"
      ]
     },
     "execution_count": 21,
     "metadata": {},
     "output_type": "execute_result"
    }
   ],
   "source": [
    "dt1['winnernewrating'].corr(dt1['losernewrating'])"
   ]
  },
  {
   "cell_type": "markdown",
   "id": "b25ac1e2",
   "metadata": {},
   "source": [
    "**6. Выберите только  первые раунды турнира, сгруппируйте датафрейм по переменной `tourneyid`, затем рассчитайте коэффициент корреляции между переменными `winnerscore` и `loserscore`.**"
   ]
  },
  {
   "cell_type": "code",
   "execution_count": 24,
   "id": "f9aabc19",
   "metadata": {},
   "outputs": [
    {
     "data": {
      "text/plain": [
       "0.9998969144453598"
      ]
     },
     "execution_count": 24,
     "metadata": {},
     "output_type": "execute_result"
    }
   ],
   "source": [
    "dt2 = data[data['round'] == 1].groupby('tourneyid').mean()\n",
    "\n",
    "dt2['winnerscore'].corr(dt2['loserscore'])"
   ]
  },
  {
   "cell_type": "markdown",
   "id": "a9375289",
   "metadata": {},
   "source": [
    "**7.Укажите, верно ли следующее утверждение: переменная `tie` не влияет на характер взаимосвязи между переменными `winnernewrating` и `losernewrating`.**"
   ]
  },
  {
   "cell_type": "code",
   "execution_count": 25,
   "id": "5cff28b8",
   "metadata": {},
   "outputs": [
    {
     "name": "stdout",
     "output_type": "stream",
     "text": [
      "0.9233027219958259\n",
      "0.9782555275896678\n"
     ]
    }
   ],
   "source": [
    "dt3 = data[data['tie'] == 1].groupby('tourneyid').mean()\n",
    "print(dt3['winnernewrating'].corr(dt3['losernewrating']))\n",
    "\n",
    "dt4 = data[data['tie'] == 0].groupby('tourneyid').mean()\n",
    "print(dt4['winnernewrating'].corr(dt4['losernewrating']))"
   ]
  },
  {
   "cell_type": "markdown",
   "id": "e5ddd388",
   "metadata": {},
   "source": [
    "**8.Выберите самого часто встречающегося победителя (столбец `winnername`). Сгруппируйте датафрейм по переменной `tourneyid`, затем рассчитайте коэффициент корреляции между средними значениями переменных `winnerscore` и `winneroldrating`.**"
   ]
  },
  {
   "cell_type": "code",
   "execution_count": 28,
   "id": "96f3ffc2",
   "metadata": {},
   "outputs": [
    {
     "name": "stdout",
     "output_type": "stream",
     "text": [
      "0.05229383983973788\n"
     ]
    }
   ],
   "source": [
    "dt5 = data[data['winnername'] == data['winnername'].mode()[0]].groupby('tourneyid').mean()\n",
    "print(dt5['winnerscore'].corr(dt5['winneroldrating']))"
   ]
  },
  {
   "cell_type": "markdown",
   "id": "120660f8",
   "metadata": {},
   "source": [
    "**9. Укажите, верно ли следующее утверждение: *характер взаимосвязи (прямая или обратная) между средними значениями переменных `winnerscore` и `winneroldrating`* для победителя по имени Lester Schonbrun не отличается для такого же показателя для победителя по имени Stuart Goldman. Сгруппируйте датафрейм по переменной `tourneyid`, затем рассчитайте коэффициент корреляции между средними значениями указанных переменных**."
   ]
  },
  {
   "cell_type": "code",
   "execution_count": 29,
   "id": "c7885fb6",
   "metadata": {},
   "outputs": [
    {
     "name": "stdout",
     "output_type": "stream",
     "text": [
      "-0.49853115281438176\n"
     ]
    }
   ],
   "source": [
    "dt6 = data[data['winnername'] == 'Stuart Goldman'].groupby('tourneyid').mean()\n",
    "print(dt6['winnerscore'].corr(dt6['winneroldrating']))"
   ]
  },
  {
   "cell_type": "markdown",
   "id": "7969cd39",
   "metadata": {},
   "source": [
    "**10. Выберите данные только за 4376 турнир (переменная `tourneyid`). Рассчитайте коэффициент корреляции между переменными `winnerscore` и `loserscore`**. "
   ]
  },
  {
   "cell_type": "code",
   "execution_count": 31,
   "id": "62d404f1",
   "metadata": {},
   "outputs": [
    {
     "data": {
      "text/plain": [
       "-0.24900080522596166"
      ]
     },
     "execution_count": 31,
     "metadata": {},
     "output_type": "execute_result"
    }
   ],
   "source": [
    "dt7 = data[data['tourneyid'] == 4376]\n",
    "dt7['winnerscore'].corr(dt7['loserscore'])"
   ]
  }
 ],
 "metadata": {
  "kernelspec": {
   "display_name": "Python 3 (ipykernel)",
   "language": "python",
   "name": "python3"
  },
  "language_info": {
   "codemirror_mode": {
    "name": "ipython",
    "version": 3
   },
   "file_extension": ".py",
   "mimetype": "text/x-python",
   "name": "python",
   "nbconvert_exporter": "python",
   "pygments_lexer": "ipython3",
   "version": "3.9.7"
  }
 },
 "nbformat": 4,
 "nbformat_minor": 5
}
